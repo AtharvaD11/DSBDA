{
  "nbformat": 4,
  "nbformat_minor": 0,
  "metadata": {
    "colab": {
      "name": "Data Wrangling I.ipynb",
      "provenance": [],
      "collapsed_sections": []
    },
    "kernelspec": {
      "name": "python3",
      "display_name": "Python 3"
    },
    "language_info": {
      "name": "python"
    }
  },
  "cells": [
    {
      "cell_type": "markdown",
      "source": [
        " **Assignment No 1- \n",
        " Atharva Deshpande TC16**"
      ],
      "metadata": {
        "id": "Y3kvgYXIKlC5"
      }
    },
    {
      "cell_type": "markdown",
      "source": [
        "Dirty Data Set"
      ],
      "metadata": {
        "id": "x5T0MKayK2Nv"
      }
    },
    {
      "cell_type": "code",
      "source": [
        "import pandas as pd"
      ],
      "metadata": {
        "id": "TwOvh5PXK5bg"
      },
      "execution_count": null,
      "outputs": []
    },
    {
      "cell_type": "markdown",
      "source": [
        "Mounting to the drive"
      ],
      "metadata": {
        "id": "EBM1udsBLUKq"
      }
    },
    {
      "cell_type": "code",
      "source": [
        "from google.colab import drive\n",
        "drive.mount('/content/drive')"
      ],
      "metadata": {
        "id": "D2aOns4-LXHn"
      },
      "execution_count": null,
      "outputs": []
    },
    {
      "cell_type": "code",
      "source": [
        ""
      ],
      "metadata": {
        "id": "e8p-TuiOLmO8"
      },
      "execution_count": null,
      "outputs": []
    },
    {
      "cell_type": "markdown",
      "source": [
        "Importing the dirty data set"
      ],
      "metadata": {
        "id": "ASdawH1iLuAc"
      }
    },
    {
      "cell_type": "code",
      "source": [
        "df = pd.read_csv('/content/drive/My Drive/Colab Notebooks/dirtydata.csv')"
      ],
      "metadata": {
        "id": "9enyjavYLx8-"
      },
      "execution_count": null,
      "outputs": []
    },
    {
      "cell_type": "markdown",
      "source": [
        "Displaying the dataset"
      ],
      "metadata": {
        "id": "9I5w_1WDMUAI"
      }
    },
    {
      "cell_type": "code",
      "source": [
        "df"
      ],
      "metadata": {
        "id": "FEqCSwdKMWP_"
      },
      "execution_count": null,
      "outputs": []
    },
    {
      "cell_type": "code",
      "source": [
        ""
      ],
      "metadata": {
        "id": "iqVaT8ZzMwWL"
      },
      "execution_count": null,
      "outputs": []
    },
    {
      "cell_type": "markdown",
      "source": [
        "Checking the missing values"
      ],
      "metadata": {
        "id": "3ucuwL10M4GT"
      }
    },
    {
      "cell_type": "code",
      "source": [
        "df.isnull()"
      ],
      "metadata": {
        "id": "BKryONHxMe4k"
      },
      "execution_count": null,
      "outputs": []
    },
    {
      "cell_type": "code",
      "source": [
        ""
      ],
      "metadata": {
        "id": "OEqpn45JNCaX"
      },
      "execution_count": null,
      "outputs": []
    },
    {
      "cell_type": "markdown",
      "source": [
        "Describing the dataset"
      ],
      "metadata": {
        "id": "zdtzUUV3NEeq"
      }
    },
    {
      "cell_type": "code",
      "source": [
        "df.describe()"
      ],
      "metadata": {
        "id": "G6aRzV5-NHVI"
      },
      "execution_count": null,
      "outputs": []
    },
    {
      "cell_type": "code",
      "source": [
        ""
      ],
      "metadata": {
        "id": "7xgl9n_1NTDD"
      },
      "execution_count": null,
      "outputs": []
    },
    {
      "cell_type": "markdown",
      "source": [
        "Shape of Dataset"
      ],
      "metadata": {
        "id": "VGE3Ayq6NUMK"
      }
    },
    {
      "cell_type": "code",
      "source": [
        "df.shape"
      ],
      "metadata": {
        "id": "FVhi9ZI2NXgH"
      },
      "execution_count": null,
      "outputs": []
    },
    {
      "cell_type": "markdown",
      "source": [
        "Data types"
      ],
      "metadata": {
        "id": "Eb3TwDFsNZxY"
      }
    },
    {
      "cell_type": "code",
      "source": [
        "df.dtypes"
      ],
      "metadata": {
        "id": "KCf57oftNeV0"
      },
      "execution_count": null,
      "outputs": []
    },
    {
      "cell_type": "code",
      "source": [
        ""
      ],
      "metadata": {
        "id": "hx9Icv9cNlT0"
      },
      "execution_count": null,
      "outputs": []
    },
    {
      "cell_type": "markdown",
      "source": [
        "Counting the total number of entries in each column"
      ],
      "metadata": {
        "id": "pdTX4XEXNl7E"
      }
    },
    {
      "cell_type": "code",
      "source": [
        "df.count(axis = 'rows')"
      ],
      "metadata": {
        "id": "finqmbyJNz46"
      },
      "execution_count": null,
      "outputs": []
    },
    {
      "cell_type": "markdown",
      "source": [
        "Dropping all entries from dataset. Create new dataset and append the data that doesn't contain any null entries."
      ],
      "metadata": {
        "id": "oxMxakV3OD6v"
      }
    },
    {
      "cell_type": "code",
      "source": [
        "new_df = df.dropna()\n",
        "new_df"
      ],
      "metadata": {
        "id": "7GnACR1PPCNV"
      },
      "execution_count": null,
      "outputs": []
    },
    {
      "cell_type": "markdown",
      "source": [
        "Displaying the data in form of string"
      ],
      "metadata": {
        "id": "sztxrsnyPQtb"
      }
    },
    {
      "cell_type": "code",
      "source": [
        "print(new_df.to_string())"
      ],
      "metadata": {
        "id": "5USzID73PVrN"
      },
      "execution_count": null,
      "outputs": []
    },
    {
      "cell_type": "markdown",
      "source": [
        "Number of missing values in each column"
      ],
      "metadata": {
        "id": "oYLgNUWyPlnV"
      }
    },
    {
      "cell_type": "code",
      "source": [
        "new_df.isna().sum()"
      ],
      "metadata": {
        "id": "yRo6JnFqPo1L"
      },
      "execution_count": null,
      "outputs": []
    },
    {
      "cell_type": "markdown",
      "source": [
        "Changing the datatype of date colum"
      ],
      "metadata": {
        "id": "4158pnqFP2VD"
      }
    },
    {
      "cell_type": "code",
      "source": [
        "new_df['Date'] = pd.to_datetime(new_df['Date']);\n",
        "new_df.dtypes"
      ],
      "metadata": {
        "id": "75ilMe-TQVBX"
      },
      "execution_count": null,
      "outputs": []
    },
    {
      "cell_type": "markdown",
      "source": [
        "Replacing the null values with the mean of column values`"
      ],
      "metadata": {
        "id": "yD5K4S5RQu2t"
      }
    },
    {
      "cell_type": "code",
      "source": [
        "x =df['Calories'].mean()\n",
        "print(x)\n",
        "df['Calories'].fillna(x, inplace = True)\n",
        "df"
      ],
      "metadata": {
        "id": "MF-RWwq8Qzab"
      },
      "execution_count": null,
      "outputs": []
    },
    {
      "cell_type": "markdown",
      "source": [
        "Change the datatype of Calories column"
      ],
      "metadata": {
        "id": "aiiHLUaORaeI"
      }
    },
    {
      "cell_type": "code",
      "source": [
        "df1 = new_df\n",
        "df1['Calories'] = df1['Calories'].astype('int')\n",
        "print(df1.dtypes)"
      ],
      "metadata": {
        "id": "6uCUitt7ReKe"
      },
      "execution_count": null,
      "outputs": []
    },
    {
      "cell_type": "markdown",
      "source": [
        ""
      ],
      "metadata": {
        "id": "e-fPIo5wRzSM"
      }
    },
    {
      "cell_type": "markdown",
      "source": [
        "Checking whether there are any duplicates present in the dataset"
      ],
      "metadata": {
        "id": "RceBgXDKRziF"
      }
    },
    {
      "cell_type": "code",
      "source": [
        "df1.duplicated()"
      ],
      "metadata": {
        "id": "fWo9aedeR20J"
      },
      "execution_count": null,
      "outputs": []
    },
    {
      "cell_type": "markdown",
      "source": [
        "Dropping the duplicates"
      ],
      "metadata": {
        "id": "F0rGOxNISCmK"
      }
    },
    {
      "cell_type": "code",
      "source": [
        "df1.drop_duplicates()"
      ],
      "metadata": {
        "id": "2bybLykLSEyU"
      },
      "execution_count": null,
      "outputs": []
    },
    {
      "cell_type": "code",
      "source": [
        "print(df1.duplicated().sum())"
      ],
      "metadata": {
        "id": "43071iDsSlGs"
      },
      "execution_count": null,
      "outputs": []
    },
    {
      "cell_type": "code",
      "source": [
        "df1.corr()"
      ],
      "metadata": {
        "id": "6Q_grJyTS7nu"
      },
      "execution_count": null,
      "outputs": []
    },
    {
      "cell_type": "code",
      "source": [
        ""
      ],
      "metadata": {
        "id": "6quW1iunVzSN"
      },
      "execution_count": null,
      "outputs": []
    },
    {
      "cell_type": "code",
      "source": [
        ""
      ],
      "metadata": {
        "id": "40SIs25RVza0"
      },
      "execution_count": null,
      "outputs": []
    },
    {
      "cell_type": "markdown",
      "source": [
        "### **NBA DataSet**"
      ],
      "metadata": {
        "id": "5Cp19fmKV0Cu"
      }
    },
    {
      "cell_type": "code",
      "source": [
        "import pandas as pd\n",
        "dframe = pd.read_csv('/content/drive/My Drive/Colab Notebooks/nba.csv')\n",
        "dframe"
      ],
      "metadata": {
        "id": "j1BXbeAIV_DN"
      },
      "execution_count": null,
      "outputs": []
    },
    {
      "cell_type": "code",
      "source": [
        "dframe.shape"
      ],
      "metadata": {
        "id": "JrXStmc4XN7B"
      },
      "execution_count": null,
      "outputs": []
    },
    {
      "cell_type": "code",
      "source": [
        "dframe.dtypes"
      ],
      "metadata": {
        "id": "R1JzvEhaXvKL"
      },
      "execution_count": null,
      "outputs": []
    },
    {
      "cell_type": "code",
      "source": [
        "dframe.isna()"
      ],
      "metadata": {
        "id": "tcpgDRUdZGp9"
      },
      "execution_count": null,
      "outputs": []
    },
    {
      "cell_type": "code",
      "source": [
        "dframe.describe()"
      ],
      "metadata": {
        "id": "_3IQD6TLZL1H"
      },
      "execution_count": null,
      "outputs": []
    },
    {
      "cell_type": "code",
      "source": [
        "dframe.shape\n"
      ],
      "metadata": {
        "id": "yNAWpEX6Zhpa"
      },
      "execution_count": null,
      "outputs": []
    },
    {
      "cell_type": "code",
      "source": [
        "dframe.corr"
      ],
      "metadata": {
        "id": "qP9k2yDHZr-Z"
      },
      "execution_count": null,
      "outputs": []
    },
    {
      "cell_type": "code",
      "source": [
        "dframe.count(axis='rows')\n"
      ],
      "metadata": {
        "id": "e_TfVDqZafUK"
      },
      "execution_count": null,
      "outputs": []
    },
    {
      "cell_type": "code",
      "source": [
        "dframe.isna().sum()"
      ],
      "metadata": {
        "id": "Pikro-aGakrB"
      },
      "execution_count": null,
      "outputs": []
    },
    {
      "cell_type": "code",
      "source": [
        "x = dframe['Salary'].mean()\n",
        "print(x)\n",
        "dframe['Salary'].fillna(x, inplace = True)\n",
        "dframe"
      ],
      "metadata": {
        "id": "0yHDkZqva0qB"
      },
      "execution_count": null,
      "outputs": []
    },
    {
      "cell_type": "code",
      "source": [
        "new_df = dframe.dropna()\n",
        "new_df"
      ],
      "metadata": {
        "id": "ctC3lLuKbi1Y"
      },
      "execution_count": null,
      "outputs": []
    },
    {
      "cell_type": "code",
      "source": [
        "new_df.isna().sum()"
      ],
      "metadata": {
        "id": "Q-hItpkNbtGR"
      },
      "execution_count": null,
      "outputs": []
    },
    {
      "cell_type": "code",
      "source": [
        "dframe.duplicated().sum()"
      ],
      "metadata": {
        "id": "jvMaSx_rcD4p"
      },
      "execution_count": null,
      "outputs": []
    },
    {
      "cell_type": "code",
      "source": [
        "new_df['Position'].unique()"
      ],
      "metadata": {
        "id": "bVDgQxHDcN0U"
      },
      "execution_count": null,
      "outputs": []
    },
    {
      "cell_type": "markdown",
      "source": [
        ""
      ],
      "metadata": {
        "id": "avWb8dlgXOnr"
      }
    },
    {
      "cell_type": "markdown",
      "source": [
        "Replacing categorical values with quantitative values"
      ],
      "metadata": {
        "id": "d0txow2rcWsi"
      }
    },
    {
      "cell_type": "code",
      "source": [
        "new_df['Position'].replace(['PG', 'SF', 'SG', 'PF', 'C'], [0,1,2,3,4], inplace = True)\n",
        "new_df"
      ],
      "metadata": {
        "id": "mpjp3afncadK"
      },
      "execution_count": null,
      "outputs": []
    },
    {
      "cell_type": "code",
      "source": [
        ""
      ],
      "metadata": {
        "id": "k6U2sr7FdJH-"
      },
      "execution_count": null,
      "outputs": []
    },
    {
      "cell_type": "markdown",
      "source": [
        "Making the group of people with related ages using the cut method and adding a new column as Age Group`"
      ],
      "metadata": {
        "id": "8eCZMzkadJyd"
      }
    },
    {
      "cell_type": "code",
      "source": [
        "category = pd.cut(dframe.Age, bins=[19, 25, 30, 37, 45], labels=['A','B','C','D'])\n",
        "# new_df.insert(5,'Age_Group',category)\n",
        "new_df\n"
      ],
      "metadata": {
        "id": "FQwlmzxNdV2G"
      },
      "execution_count": null,
      "outputs": []
    },
    {
      "cell_type": "markdown",
      "source": [
        "Done with preprocessing"
      ],
      "metadata": {
        "id": "L3LHoz1newm4"
      }
    },
    {
      "cell_type": "markdown",
      "source": [
        "Saving preprocessed file\n"
      ],
      "metadata": {
        "id": "G9QxRfIpe0l3"
      }
    },
    {
      "cell_type": "code",
      "source": [
        "new_df.to_csv(\"Pre-Processed.csv\")"
      ],
      "metadata": {
        "id": "2lhl_NCje6Qy"
      },
      "execution_count": null,
      "outputs": []
    }
  ]
}
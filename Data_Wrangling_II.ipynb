{
  "nbformat": 4,
  "nbformat_minor": 0,
  "metadata": {
    "colab": {
      "name": "Data Wrangling II.ipynb",
      "provenance": []
    },
    "kernelspec": {
      "name": "python3",
      "display_name": "Python 3"
    },
    "language_info": {
      "name": "python"
    }
  },
  "cells": [
    {
      "cell_type": "markdown",
      "source": [
        "#Assignment 2\n",
        "Name - **Atharva Deshpande**\n",
        "###Roll No - TC16"
      ],
      "metadata": {
        "id": "baDJDZGFkRJL"
      }
    },
    {
      "cell_type": "markdown",
      "source": [
        " Consider the “Academic performance” dataset of students (xAPI Edu-Data.csv) and perform the following operations using Python. Scan all variables for missing values and inconsistencies. If there  are missing values and/or inconsistencies, use any of the suitable  techniques to deal with them. \n",
        "Scan all numeric variables for outliers. If there are outliers, use any  of the suitable techniques to deal with them. \n",
        "Apply data transformations on at least one of the variables. The  purpose of this transformation should be one of the following  reasons: to change the scale for better understanding of the  variable, to convert a non-linear relation into a linear one, or to  decrease the skewness and convert the distribution into a normal  distribution. \n",
        "Reason and document your approach properly. \n"
      ],
      "metadata": {
        "id": "qQQzw8xKk9GY"
      }
    },
    {
      "cell_type": "markdown",
      "source": [
        "Importing the libraries and reading the dataset"
      ],
      "metadata": {
        "id": "23TllJLHmhHn"
      }
    },
    {
      "cell_type": "code",
      "source": [
        "import pandas as pd"
      ],
      "metadata": {
        "id": "1ovbvyzflCmh"
      },
      "execution_count": null,
      "outputs": []
    },
    {
      "cell_type": "code",
      "source": [
        "from google.colab import drive\n",
        "drive.mount('/content/drive')"
      ],
      "metadata": {
        "id": "lcHec3XAns6V"
      },
      "execution_count": null,
      "outputs": []
    },
    {
      "cell_type": "code",
      "source": [
        "df = pd.read_csv('/content/drive/My Drive/Colab Notebooks/xAPI-Edu-Data.csv')\n",
        "df"
      ],
      "metadata": {
        "id": "kMh1P9Ren167"
      },
      "execution_count": null,
      "outputs": []
    },
    {
      "cell_type": "markdown",
      "source": [
        "# Missing Values"
      ],
      "metadata": {
        "id": "GG49JS9Woqp4"
      }
    },
    {
      "cell_type": "markdown",
      "source": [
        "# Scanning NULL Values\n",
        "# Getting the total number of null values in each column"
      ],
      "metadata": {
        "id": "4YX4OiDzo2Gs"
      }
    },
    {
      "cell_type": "code",
      "source": [
        "df.isna().sum()"
      ],
      "metadata": {
        "id": "yZtGw6AupEjf"
      },
      "execution_count": null,
      "outputs": []
    },
    {
      "cell_type": "code",
      "source": [
        "df.dtypes"
      ],
      "metadata": {
        "id": "9WHjxQJYroym"
      },
      "execution_count": null,
      "outputs": []
    },
    {
      "cell_type": "code",
      "source": [
        "(df.isna().sum() * 100) / len(df)"
      ],
      "metadata": {
        "id": "kGEfXMYtssuE"
      },
      "execution_count": null,
      "outputs": []
    },
    {
      "cell_type": "markdown",
      "source": [
        "# We can fill the NULL values of 'Topic' by the most frequent value of the column i.e. by mode"
      ],
      "metadata": {
        "id": "OinoLF38pRbr"
      }
    },
    {
      "cell_type": "code",
      "source": [
        "most_freq = df['Topic'].mode()\n",
        "print(most_freq)\n",
        "df['Topic'].fillna(most_freq[0], inplace = True)"
      ],
      "metadata": {
        "id": "MJiyCe2ttEE8"
      },
      "execution_count": null,
      "outputs": []
    },
    {
      "cell_type": "markdown",
      "source": [
        "# Replacing the missing values of 'Relation' and 'Class' with 'Unknown'"
      ],
      "metadata": {
        "id": "s_OPvzthtwFx"
      }
    },
    {
      "cell_type": "code",
      "source": [
        "df['Relation'].fillna('Unknown', inplace = True)\n",
        "df['Class'].fillna('Unknown', inplace = True)"
      ],
      "metadata": {
        "id": "rMTK8Ph8t4-s"
      },
      "execution_count": null,
      "outputs": []
    },
    {
      "cell_type": "markdown",
      "source": [
        "# Missing values of 'raisedhands', 'visITedresources' and 'AnouncementsView' can be replaced by 0;"
      ],
      "metadata": {
        "id": "dujqxuZRub8Y"
      }
    },
    {
      "cell_type": "code",
      "source": [
        "columns = ['raisedhands', 'VisITedResources', 'AnnouncementsView']\n",
        "df[columns] = df[columns].fillna(0.0)"
      ],
      "metadata": {
        "id": "69bZflGuuwsr"
      },
      "execution_count": null,
      "outputs": []
    },
    {
      "cell_type": "markdown",
      "source": [
        "# Missing values of 'StudentAbsenceDays' and 'ParentschoolSatisfaction' can be replaced by most frequent values or mode\n",
        "Here only ~1% data is missing, hence replacing it will mode will not affect dataset much\n"
      ],
      "metadata": {
        "id": "0OrbRUlcvJd3"
      }
    },
    {
      "cell_type": "code",
      "source": [
        "studentDaysMode = df['StudentAbsenceDays'].mode()\n",
        "parentsSatisfactionMode = df['ParentAnsweringSurvey'].mode()\n",
        "\n",
        "df['StudentAbsenceDays'].fillna(studentDaysMode[0], inplace = True)\n",
        "df['ParentschoolSatisfaction'].fillna(parentsSatisfactionMode[0], inplace = True)"
      ],
      "metadata": {
        "id": "M-gmElPjvZBA"
      },
      "execution_count": null,
      "outputs": []
    },
    {
      "cell_type": "code",
      "source": [
        "df.head()"
      ],
      "metadata": {
        "id": "Qc9l-1zlwZCo"
      },
      "execution_count": null,
      "outputs": []
    },
    {
      "cell_type": "markdown",
      "source": [
        "**Check again the missing values**"
      ],
      "metadata": {
        "id": "-x1LfvxUwdB_"
      }
    },
    {
      "cell_type": "code",
      "source": [
        "df.isna().sum()"
      ],
      "metadata": {
        "id": "HC_IoqmVwgzA"
      },
      "execution_count": null,
      "outputs": []
    },
    {
      "cell_type": "code",
      "source": [
        "import seaborn as sns\n",
        "sns.boxplot(data = df['AnnouncementsView'], x = df['AnnouncementsView'])"
      ],
      "metadata": {
        "id": "j-gF4zVoyNQc"
      },
      "execution_count": null,
      "outputs": []
    },
    {
      "cell_type": "code",
      "source": [
        "quart1 = df['AnnouncementsView'].quantile(0.25)\n",
        "quart3 = df['AnnouncementsView'].quantile(0.75)\n",
        "iqr = quart3 - quart1\n",
        "lower_bound = quart1 - 1.5*iqr\n",
        "upper_bound = quart3 + 1.5*iqr\n",
        "print(\"Quartile 1 : \", quart1)\n",
        "print(\"Quartile 3 : \", quart3)\n",
        "print(\"Lower Bound: \", lower_bound)\n",
        "print(\"upper_bound\", upper_bound)"
      ],
      "metadata": {
        "id": "CeUCcE4t9nDL"
      },
      "execution_count": null,
      "outputs": []
    },
    {
      "cell_type": "markdown",
      "source": [
        "# Removing the outliers using InterQuartile Range"
      ],
      "metadata": {
        "id": "MxOctuII9owL"
      }
    },
    {
      "cell_type": "code",
      "source": [
        "df = df[(lower_bound < df['AnnouncementsView']) & (upper_bound > df['AnnouncementsView'])]\n",
        "# # df\n",
        "df.describe()"
      ],
      "metadata": {
        "id": "U3K4Hm82BKWT"
      },
      "execution_count": null,
      "outputs": []
    },
    {
      "cell_type": "markdown",
      "source": [
        "# Data Transform"
      ],
      "metadata": {
        "id": "Yv72SVyoFGU7"
      }
    },
    {
      "cell_type": "code",
      "source": [
        "df['ParentschoolSatisfaction'].unique()"
      ],
      "metadata": {
        "id": "NKt5LOPZFQCl"
      },
      "execution_count": null,
      "outputs": []
    },
    {
      "cell_type": "code",
      "source": [
        "df['StudentAbsenceDays'].unique()"
      ],
      "metadata": {
        "id": "fwqDnGh_FcQY"
      },
      "execution_count": null,
      "outputs": []
    },
    {
      "cell_type": "code",
      "source": [
        "df['ParentschoolSatisfaction'].replace({'Good' : 1, 'Bad' : -1}, inplace = True)\n",
        "df['StudentAbsenceDays'].replace({\"Under-7\" : 1, 'Above-7' : -1}, inplace = True)\n",
        "df.head(15)"
      ],
      "metadata": {
        "id": "DGILkiveFl_D"
      },
      "execution_count": null,
      "outputs": []
    }
  ]
}